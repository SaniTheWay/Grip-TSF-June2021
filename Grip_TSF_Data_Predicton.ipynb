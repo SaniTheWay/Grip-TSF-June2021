{
  "nbformat": 4,
  "nbformat_minor": 0,
  "metadata": {
    "colab": {
      "name": "Grip - TSF Data Predicton.ipynb",
      "private_outputs": true,
      "provenance": [],
      "authorship_tag": "ABX9TyPyfcc1I2KY0GYI68bABh9e"
    },
    "kernelspec": {
      "name": "python3",
      "display_name": "Python 3"
    },
    "language_info": {
      "name": "python"
    }
  },
  "cells": [
    {
      "cell_type": "markdown",
      "metadata": {
        "id": "erVw3hyd7s7Y"
      },
      "source": [
        "---\n",
        "\n",
        "```\n",
        "GRIP - THE SPARK FOUNDATION\n",
        "\n",
        "Data Science & Business Analytics Intern\n",
        "\n",
        "TASK-1: Prediction using Supervised ML\n",
        "By Sanidhya Dave\n",
        "\n",
        "```\n",
        "---\n"
      ]
    },
    {
      "cell_type": "code",
      "metadata": {
        "id": "rpmBdFweU6HR"
      },
      "source": [
        "#Importing Libraries\n",
        "import numpy as np\n",
        "import pandas as pd\n",
        "import matplotlib.pyplot as plt\n",
        "import seaborn as sns"
      ],
      "execution_count": null,
      "outputs": []
    },
    {
      "cell_type": "code",
      "metadata": {
        "id": "8DpbFeuHVV3J"
      },
      "source": [
        "from sklearn import model_selection\n",
        "from sklearn import linear_model"
      ],
      "execution_count": null,
      "outputs": []
    },
    {
      "cell_type": "code",
      "metadata": {
        "id": "FAL3Y7isVYtB"
      },
      "source": [
        "#Loading Dataset\n",
        "mydata = pd.read_csv(\"sample.csv\")\n",
        "print(\"Dataset Loaded!\")"
      ],
      "execution_count": null,
      "outputs": []
    },
    {
      "cell_type": "code",
      "metadata": {
        "id": "h28VRG0P1qsK"
      },
      "source": [
        "mydata"
      ],
      "execution_count": null,
      "outputs": []
    },
    {
      "cell_type": "code",
      "metadata": {
        "id": "ASnOzfaEWSlb"
      },
      "source": [
        "mydata.describe()"
      ],
      "execution_count": null,
      "outputs": []
    },
    {
      "cell_type": "code",
      "metadata": {
        "id": "HCPhl7qGXJP_"
      },
      "source": [
        "mydata.info()"
      ],
      "execution_count": null,
      "outputs": []
    },
    {
      "cell_type": "markdown",
      "metadata": {
        "id": "yfJwIU11Ytgt"
      },
      "source": [
        "## *Exploring Dataset*"
      ]
    },
    {
      "cell_type": "code",
      "metadata": {
        "id": "d2tH0xezYBwZ"
      },
      "source": [
        "mydata.plot(x=\"Hours\", y=\"Scores\", style=\"o\")\n",
        "plt.title(\"Hours vs Score\")\n",
        "plt.xlabel(\"Hours\")\n",
        "plt.ylabel(\"Score\")\n",
        "plt.show()"
      ],
      "execution_count": null,
      "outputs": []
    },
    {
      "cell_type": "code",
      "metadata": {
        "id": "ZWLIVOel2JoU"
      },
      "source": [
        "corel=mydata.corr()\n",
        "corel"
      ],
      "execution_count": null,
      "outputs": []
    },
    {
      "cell_type": "code",
      "metadata": {
        "id": "hL59XR8jZc0l"
      },
      "source": [
        "sns.lmplot(x=\"Hours\", y=\"Scores\", data=mydata)\n",
        "plt.title(\"Regression Line:\")"
      ],
      "execution_count": null,
      "outputs": []
    },
    {
      "cell_type": "markdown",
      "metadata": {
        "id": "QaL5y736a8IO"
      },
      "source": [
        "## *Division of Data into Attributes and Labels*"
      ]
    },
    {
      "cell_type": "code",
      "metadata": {
        "id": "P8S17tiMawI8"
      },
      "source": [
        "X = mydata.iloc[:, :-1].values    \n",
        "Y = mydata.iloc[:, -1].values"
      ],
      "execution_count": null,
      "outputs": []
    },
    {
      "cell_type": "code",
      "metadata": {
        "id": "Z3mpotMYbF64"
      },
      "source": [
        "print(X)"
      ],
      "execution_count": null,
      "outputs": []
    },
    {
      "cell_type": "code",
      "metadata": {
        "id": "diEbm_GTcxG8"
      },
      "source": [
        "print(Y)"
      ],
      "execution_count": null,
      "outputs": []
    },
    {
      "cell_type": "markdown",
      "metadata": {
        "id": "wPgA2PFaeJSN"
      },
      "source": [
        "## *Data Splitting*"
      ]
    },
    {
      "cell_type": "code",
      "metadata": {
        "id": "xuYZ6d-reCxM"
      },
      "source": [
        "#Spliting data into Training Set and Test Set\n",
        "from sklearn.model_selection import train_test_split\n",
        "X_train, X_test, Y_train, Y_test = train_test_split(X, Y, test_size=0.3, random_state=0)"
      ],
      "execution_count": null,
      "outputs": []
    },
    {
      "cell_type": "markdown",
      "metadata": {
        "id": "yiltOO3MeYLE"
      },
      "source": [
        "## *Training Data using :* **Linear Regression Model**"
      ]
    },
    {
      "cell_type": "code",
      "metadata": {
        "id": "tOPj7UC3eQ7y"
      },
      "source": [
        "from sklearn.linear_model import LinearRegression\n",
        "regressor = LinearRegression()\n",
        "regressor.fit(X_train, Y_train)\n",
        "print(\"Training Completed!\")"
      ],
      "execution_count": null,
      "outputs": []
    },
    {
      "cell_type": "markdown",
      "metadata": {
        "id": "VsKSjaGHejgf"
      },
      "source": [
        "## *Predicting the Test Set Results*"
      ]
    },
    {
      "cell_type": "code",
      "metadata": {
        "id": "aTj7CqDyegzL"
      },
      "source": [
        "#After division the Train data looks like:\n",
        "X_train, Y_train"
      ],
      "execution_count": null,
      "outputs": []
    },
    {
      "cell_type": "code",
      "metadata": {
        "id": "gaEq1Jb5eygY"
      },
      "source": [
        "#Predicting the data\n",
        "Y_pred = regressor.predict(X_test)"
      ],
      "execution_count": null,
      "outputs": []
    },
    {
      "cell_type": "code",
      "metadata": {
        "id": "-GeO-8BWw2L6"
      },
      "source": [
        "#Predicted data\n",
        "Y_pred"
      ],
      "execution_count": null,
      "outputs": []
    },
    {
      "cell_type": "code",
      "metadata": {
        "id": "Lfko14qsw7XF"
      },
      "source": [
        "compare_data = pd.DataFrame({'Actual':Y_test, 'Predicted':Y_pred})\n",
        "compare_data"
      ],
      "execution_count": null,
      "outputs": []
    },
    {
      "cell_type": "markdown",
      "metadata": {
        "id": "Ci26wCCnxfeZ"
      },
      "source": [
        "## *Visualising the Training set results*"
      ]
    },
    {
      "cell_type": "code",
      "metadata": {
        "id": "lhxYKDbaxL07"
      },
      "source": [
        "plt.scatter(X_train,Y_train, color='black')\n",
        "plt.plot(X_train,regressor.predict(X_train),color='green')\n",
        "plt.title('Trainig Set Results')\n",
        "plt.xlabel('Hours -->')\n",
        "plt.ylabel('Scores -->')\n",
        "plt.show()"
      ],
      "execution_count": null,
      "outputs": []
    },
    {
      "cell_type": "markdown",
      "metadata": {
        "id": "zkodfEH9x-0y"
      },
      "source": [
        "## *Visualising Test set results*"
      ]
    },
    {
      "cell_type": "code",
      "metadata": {
        "id": "4hgY-zAhyC-Y"
      },
      "source": [
        "plt.scatter(X_test, Y_test, color = 'black')\n",
        "plt.plot(X_train, regressor.predict(X_train), color = 'green')\n",
        "plt.title('(Testing Set Results')\n",
        "plt.xlabel('Hours Studied')\n",
        "plt.ylabel('Scored')\n",
        "plt.show()"
      ],
      "execution_count": null,
      "outputs": []
    },
    {
      "cell_type": "code",
      "metadata": {
        "id": "Z9WZPpphyGSP"
      },
      "source": [
        "#Checking the correlation\n",
        "plt.figure(figsize=(10,5))\n",
        "sns.heatmap(corel,annot=True)\n",
        "plt.xticks(fontsize=12)\n",
        "plt.yticks(fontsize=12)\n",
        "plt.show()"
      ],
      "execution_count": null,
      "outputs": []
    },
    {
      "cell_type": "markdown",
      "metadata": {
        "id": "v-vtraroyh2y"
      },
      "source": [
        "## *Differences between actual Scores and predicted Scores*\n"
      ]
    },
    {
      "cell_type": "code",
      "metadata": {
        "id": "c3PQbI8xyN2g"
      },
      "source": [
        "plt.scatter(Y_test,Y_pred,c='r')\n",
        "plt.plot(Y_test,Y_pred,c='b')\n",
        "plt.xlabel(\"Actual Score\")\n",
        "plt.ylabel(\"Predicted Score\")\n",
        "plt.title(\"Actual Score vs Predicted Score\\n\")\n",
        "plt.show()"
      ],
      "execution_count": null,
      "outputs": []
    },
    {
      "cell_type": "markdown",
      "metadata": {
        "id": "lL6-rip4zA1W"
      },
      "source": [
        "\n",
        "\n",
        "---\n",
        "\n",
        "\n",
        "## **What will be predicted score if a student studies for 9.25 hrs/ day?**\n"
      ]
    },
    {
      "cell_type": "code",
      "metadata": {
        "id": "FqTRvx_Zyr4E"
      },
      "source": [
        "hr = np.array([[9.25]])\n",
        "predict=regressor.predict(hr)\n",
        "print(\"No of Hours = {}\".format(hr))\n",
        "print(\"Predicted Score = {}\".format(predict[0]))"
      ],
      "execution_count": null,
      "outputs": []
    },
    {
      "cell_type": "markdown",
      "metadata": {
        "id": "7_tqFX0Qzc5Y"
      },
      "source": [
        "### *Accuracy Checking* :"
      ]
    },
    {
      "cell_type": "code",
      "metadata": {
        "id": "Pw47PLxxzOnY"
      },
      "source": [
        "print(\"Train : \",regressor.score(X_train,Y_train)*100)\n",
        "print(\"Test : \",regressor.score(X_test,Y_test)*100)"
      ],
      "execution_count": null,
      "outputs": []
    },
    {
      "cell_type": "markdown",
      "metadata": {
        "id": "_M1LUfHMzsis"
      },
      "source": [
        "### *Finding mean absolute error, r^2 score error and Mean Squared Error* :"
      ]
    },
    {
      "cell_type": "code",
      "metadata": {
        "id": "RaILGLVOzmR9"
      },
      "source": [
        "from sklearn import metrics  \n",
        "from sklearn.metrics import r2_score\n",
        "from sklearn.metrics import mean_squared_error"
      ],
      "execution_count": null,
      "outputs": []
    },
    {
      "cell_type": "code",
      "metadata": {
        "id": "Y9de_YxLz0Mn"
      },
      "source": [
        "print('Mean absolute error:\\t', metrics.mean_absolute_error(Y_test, regressor.predict(X_test)))\n",
        "print('r^2 score error:\\t',r2_score(Y_test, regressor.predict(X_test)))\n",
        "print('Mean squared error:\\t',mean_squared_error(Y_test, regressor.predict(X_test)))"
      ],
      "execution_count": null,
      "outputs": []
    },
    {
      "cell_type": "markdown",
      "metadata": {
        "id": "Y0b8Rfq6523x"
      },
      "source": [
        "\n",
        "\n",
        "---\n",
        "\n",
        "By [***Sanidhya Dave*** ](https://www.linkedin.com/in/sanidhyadave)\n",
        "\n",
        "---\n"
      ]
    }
  ]
}